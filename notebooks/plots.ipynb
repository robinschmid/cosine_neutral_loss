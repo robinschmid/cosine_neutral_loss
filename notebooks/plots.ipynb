{
 "cells": [
  {
   "cell_type": "code",
   "execution_count": 1,
   "id": "2d058e45",
   "metadata": {
    "pycharm": {
     "name": "#%%\n"
    }
   },
   "outputs": [],
   "source": [
    "import os\n",
    "import sys\n",
    "from pathlib import Path\n",
    "# Make sure all code is in the PATH.\n",
    "sys.path.append(\"../src/\")"
   ]
  },
  {
   "cell_type": "code",
   "execution_count": 2,
   "id": "818f0dd9",
   "metadata": {
    "pycharm": {
     "name": "#%%\n"
    }
   },
   "outputs": [],
   "source": [
    "import matplotlib.pyplot as plt\n",
    "import matplotlib.ticker as mticker\n",
    "import numpy as np\n",
    "import pandas as pd\n",
    "import seaborn as sns\n",
    "from matplotlib.colors import LogNorm"
   ]
  },
  {
   "cell_type": "code",
   "execution_count": 3,
   "id": "05c3d71a",
   "metadata": {
    "pycharm": {
     "name": "#%%\n"
    }
   },
   "outputs": [],
   "source": [
    "# Plot styling.\n",
    "plt.style.use([\"seaborn-white\", \"seaborn-paper\"])\n",
    "plt.rc(\"font\", family=\"sans-serif\")\n",
    "sns.set_palette([\"#9e0059\", \"#6da7de\", \"#ee266d\", \"#dee000\", \"#eb861e\"])\n",
    "sns.set_context(\"paper\")\n",
    "\n",
    "# ensure directory\n",
    "Path(\"results/img/\").mkdir(parents=True, exist_ok=True)"
   ]
  },
  {
   "cell_type": "markdown",
   "source": [
    "## Finished setup, start plotting"
   ],
   "metadata": {
    "collapsed": false,
    "pycharm": {
     "name": "#%% md\n"
    }
   }
  },
  {
   "cell_type": "code",
   "execution_count": 4,
   "outputs": [
    {
     "data": {
      "text/plain": "                  id1                 id2  delta_mz  tanimoto  cos_score  \\\n0  CCMSLIB00005753548  CCMSLIB00006691107   117.068    0.1072   0.009034   \n1  CCMSLIB00006708182  CCMSLIB00006691703   123.928    0.2577   0.049627   \n2  CCMSLIB00006700259  CCMSLIB00006691156   113.993    0.2066   0.000015   \n3  CCMSLIB00006699505  CCMSLIB00005735250   132.926    0.1512   0.004973   \n4  CCMSLIB00000568988  CCMSLIB00005777685   173.969    0.3349   0.010959   \n\n   cos_matched_intensity  cos_max_contribution  cos_n_greq_2p  cos_matches  \\\n0               0.227256              0.005347              0           11   \n1               0.651757              0.006468              0           84   \n2               0.004877              0.000012              0            3   \n3               0.734883              0.004449              0           11   \n4               0.124588              0.006047              0           10   \n\n   mod_score  mod_matched_intensity  mod_max_contribution  mod_n_greq_2p  \\\n0   0.010308               0.227730              0.005347              0   \n1   0.133049               0.863047              0.034562              2   \n2   0.002078               0.426866              0.002033              0   \n3   0.004977               0.752919              0.004449              0   \n4   0.011768               0.137595              0.006047              0   \n\n   mod_matches  nl_score  nl_matched_intensity  nl_max_contribution  \\\n0           11  0.002129              0.124750             0.002129   \n1          109  0.090106              0.334506             0.034562   \n2            5  0.002066              0.783621             0.002033   \n3           12  0.000003              0.001719             0.000003   \n4           13  0.000810              0.014554             0.000735   \n\n   nl_n_greq_2p  nl_matches  \n0             0           1  \n1             2          42  \n2             0           3  \n3             0           1  \n4             0           3  ",
      "text/html": "<div>\n<style scoped>\n    .dataframe tbody tr th:only-of-type {\n        vertical-align: middle;\n    }\n\n    .dataframe tbody tr th {\n        vertical-align: top;\n    }\n\n    .dataframe thead th {\n        text-align: right;\n    }\n</style>\n<table border=\"1\" class=\"dataframe\">\n  <thead>\n    <tr style=\"text-align: right;\">\n      <th></th>\n      <th>id1</th>\n      <th>id2</th>\n      <th>delta_mz</th>\n      <th>tanimoto</th>\n      <th>cos_score</th>\n      <th>cos_matched_intensity</th>\n      <th>cos_max_contribution</th>\n      <th>cos_n_greq_2p</th>\n      <th>cos_matches</th>\n      <th>mod_score</th>\n      <th>mod_matched_intensity</th>\n      <th>mod_max_contribution</th>\n      <th>mod_n_greq_2p</th>\n      <th>mod_matches</th>\n      <th>nl_score</th>\n      <th>nl_matched_intensity</th>\n      <th>nl_max_contribution</th>\n      <th>nl_n_greq_2p</th>\n      <th>nl_matches</th>\n    </tr>\n  </thead>\n  <tbody>\n    <tr>\n      <th>0</th>\n      <td>CCMSLIB00005753548</td>\n      <td>CCMSLIB00006691107</td>\n      <td>117.068</td>\n      <td>0.1072</td>\n      <td>0.009034</td>\n      <td>0.227256</td>\n      <td>0.005347</td>\n      <td>0</td>\n      <td>11</td>\n      <td>0.010308</td>\n      <td>0.227730</td>\n      <td>0.005347</td>\n      <td>0</td>\n      <td>11</td>\n      <td>0.002129</td>\n      <td>0.124750</td>\n      <td>0.002129</td>\n      <td>0</td>\n      <td>1</td>\n    </tr>\n    <tr>\n      <th>1</th>\n      <td>CCMSLIB00006708182</td>\n      <td>CCMSLIB00006691703</td>\n      <td>123.928</td>\n      <td>0.2577</td>\n      <td>0.049627</td>\n      <td>0.651757</td>\n      <td>0.006468</td>\n      <td>0</td>\n      <td>84</td>\n      <td>0.133049</td>\n      <td>0.863047</td>\n      <td>0.034562</td>\n      <td>2</td>\n      <td>109</td>\n      <td>0.090106</td>\n      <td>0.334506</td>\n      <td>0.034562</td>\n      <td>2</td>\n      <td>42</td>\n    </tr>\n    <tr>\n      <th>2</th>\n      <td>CCMSLIB00006700259</td>\n      <td>CCMSLIB00006691156</td>\n      <td>113.993</td>\n      <td>0.2066</td>\n      <td>0.000015</td>\n      <td>0.004877</td>\n      <td>0.000012</td>\n      <td>0</td>\n      <td>3</td>\n      <td>0.002078</td>\n      <td>0.426866</td>\n      <td>0.002033</td>\n      <td>0</td>\n      <td>5</td>\n      <td>0.002066</td>\n      <td>0.783621</td>\n      <td>0.002033</td>\n      <td>0</td>\n      <td>3</td>\n    </tr>\n    <tr>\n      <th>3</th>\n      <td>CCMSLIB00006699505</td>\n      <td>CCMSLIB00005735250</td>\n      <td>132.926</td>\n      <td>0.1512</td>\n      <td>0.004973</td>\n      <td>0.734883</td>\n      <td>0.004449</td>\n      <td>0</td>\n      <td>11</td>\n      <td>0.004977</td>\n      <td>0.752919</td>\n      <td>0.004449</td>\n      <td>0</td>\n      <td>12</td>\n      <td>0.000003</td>\n      <td>0.001719</td>\n      <td>0.000003</td>\n      <td>0</td>\n      <td>1</td>\n    </tr>\n    <tr>\n      <th>4</th>\n      <td>CCMSLIB00000568988</td>\n      <td>CCMSLIB00005777685</td>\n      <td>173.969</td>\n      <td>0.3349</td>\n      <td>0.010959</td>\n      <td>0.124588</td>\n      <td>0.006047</td>\n      <td>0</td>\n      <td>10</td>\n      <td>0.011768</td>\n      <td>0.137595</td>\n      <td>0.006047</td>\n      <td>0</td>\n      <td>13</td>\n      <td>0.000810</td>\n      <td>0.014554</td>\n      <td>0.000735</td>\n      <td>0</td>\n      <td>3</td>\n    </tr>\n  </tbody>\n</table>\n</div>"
     },
     "execution_count": 4,
     "metadata": {},
     "output_type": "execute_result"
    }
   ],
   "source": [
    "# filename = \"results/BILELIB19_all_sqrt_False_2000000pairs_6min_signals_True_requirestruc_4i0-200deltamz_0mods.parquet\"\n",
    "filename = \"results/20220418_ALL_GNPS_NO_PROPOGATED_all_sqrt_False_10000000pairs_6min_signals_True_requirestruc_4i0-200deltamz_0mods.parquet\"\n",
    "# filename = \"results/20220418_ALL_GNPS_NO_PROPOGATED_all_sqrt_False_5000000pairs_6min_signals_True_requirestruc_4i0-200deltamz_0mods.parquet\"\n",
    "# filename = \"results/20220418_ALL_GNPS_NO_PROPOGATED_hexose_sqrt_False_500000pairs_6min_signals_True_requirestruc_162i05282400000002specific_delta_0mods.parquet\"\n",
    "# filename = \"results/BILELIB19_aminos_sqrt_False_200000pairs_6min_signals_True_requirestruc_4i0-200deltamz_5mods.parquet\"\n",
    "# filename = \"results/BILELIB19_oxy_sqrt_False_500000pairs_6min_signals_True_requirestruc_15i9949specific_delta_0mods.parquet\"\n",
    "\n",
    "# use filename to identify exported files\n",
    "analysis_id = Path(filename).stem\n",
    "\n",
    "similarities = pd.read_parquet(filename)\n",
    "similarities.head(5)"
   ],
   "metadata": {
    "collapsed": false,
    "pycharm": {
     "name": "#%%\n"
    }
   }
  },
  {
   "cell_type": "code",
   "execution_count": 5,
   "outputs": [
    {
     "data": {
      "text/plain": "3899314"
     },
     "execution_count": 5,
     "metadata": {},
     "output_type": "execute_result"
    }
   ],
   "source": [
    "# remove rows where all scores are 0\n",
    "similarities = similarities[(similarities[\"cos_score\"]>0) & (similarities[\"mod_score\"]>0) & (similarities[\"nl_score\"]>0)]\n",
    "len(similarities)"
   ],
   "metadata": {
    "collapsed": false,
    "pycharm": {
     "name": "#%%\n"
    }
   }
  },
  {
   "cell_type": "code",
   "execution_count": 6,
   "outputs": [
    {
     "name": "stdout",
     "output_type": "stream",
     "text": [
      "{'total': 3899314, 'cos higher': 0.530212750242735, 'nl higher': 0.469751602461356}\n"
     ]
    }
   ],
   "source": [
    "total = len(similarities)\n",
    "stats = {\n",
    "    'total': total,\n",
    "    'cos higher': len(similarities[similarities[\"cos_score\"]>similarities[\"nl_score\"]])/ total,\n",
    "    'nl higher': len(similarities[similarities[\"cos_score\"]<similarities[\"nl_score\"]])/ total\n",
    "}\n",
    "print(stats)"
   ],
   "metadata": {
    "collapsed": false,
    "pycharm": {
     "name": "#%%\n"
    }
   }
  },
  {
   "cell_type": "code",
   "execution_count": 7,
   "outputs": [
    {
     "data": {
      "text/plain": "<Figure size 460.8x316.8 with 1 Axes>",
      "image/png": "[encoded data removed]"
     },
     "metadata": {},
     "output_type": "display_data"
    }
   ],
   "source": [
    "df = pd.DataFrame()\n",
    "df['cosine-nl'] = similarities['cos_score'] - similarities['nl_score']\n",
    "ax = sns.histplot(data=df, binwidth=0.04)\n",
    "ax.set_xlim((-1,1))\n",
    "\n",
    "plt.savefig(\"results/img/diff_{}.png\".format(analysis_id), dpi=300, bbox_inches=\"tight\")\n",
    "plt.show()\n",
    "plt.close()"
   ],
   "metadata": {
    "collapsed": false,
    "pycharm": {
     "name": "#%%\n"
    }
   }
  },
  {
   "cell_type": "code",
   "execution_count": 8,
   "outputs": [],
   "source": [
    "def group_tanimoto(tanimoto):\n",
    "    if tanimoto >= 0.8: return \"≥0.8\"\n",
    "    if tanimoto >= 0.6: return \"≥0.6\"\n",
    "    if tanimoto >= 0.4: return \"≥0.4\"\n",
    "    if tanimoto >= 0.0: return \"≥0\"\n",
    "    else: return 'unclassified'"
   ],
   "metadata": {
    "collapsed": false,
    "pycharm": {
     "name": "#%%\n"
    }
   }
  },
  {
   "cell_type": "code",
   "execution_count": 9,
   "outputs": [
    {
     "data": {
      "text/plain": "<Figure size 864x360 with 3 Axes>",
      "image/png": "[encoded data removed]"
     },
     "metadata": {},
     "output_type": "display_data"
    }
   ],
   "source": [
    "# tanimoto score\n",
    "hueorder = [\"≥0.8\",\"≥0.6\",\"≥0.4\",\"≥0\"]\n",
    "similarities[\"tanimoto_cat\"] = similarities[\"tanimoto\"].apply(group_tanimoto)\n",
    "\n",
    "score = [\"cos_score\",\"nl_score\",\"mod_score\"]\n",
    "fig, axes = plt.subplots(1, 3, figsize=(12, 5))\n",
    "\n",
    "for i, ax in enumerate(axes.flatten()):\n",
    "    sns.violinplot(y=score[i],\n",
    "                   x=\"tanimoto_cat\",\n",
    "                   data=similarities,\n",
    "                   cut=0,\n",
    "                   ax=ax,\n",
    "                   order=hueorder\n",
    "                   )\n",
    "    ax.set_xlabel(\"tanimoto\")\n",
    "    ax.set_ylim((0,1))\n",
    "\n",
    "    # sns.stripplot(y=score[i],\n",
    "    #               x=\"tanimoto_cat\",\n",
    "    #               data=similarities,\n",
    "    #               ax=ax,\n",
    "    #               order=hueorder,\n",
    "    #               color=\"black\", edgecolor=\"gray\", size=2)\n",
    "\n",
    "\n",
    "plt.tight_layout()\n",
    "\n",
    "plt.savefig(\"results/img/tanimoto_violin_{}.png\".format(analysis_id), dpi=300, bbox_inches=\"tight\")\n",
    "plt.show()\n",
    "plt.close()"
   ],
   "metadata": {
    "collapsed": false,
    "pycharm": {
     "name": "#%%\n"
    }
   }
  },
  {
   "cell_type": "code",
   "execution_count": null,
   "outputs": [],
   "source": [
    "labels = np.asarray([\n",
    "    [\"nl_score\", \"cos_score\"],\n",
    "    [\"cos_score\", \"mod_score\"],\n",
    "    [\"nl_score\", \"mod_score\"]\n",
    "])\n",
    "\n",
    "mosaic = \"\"\"\n",
    "11111.\n",
    "222223\n",
    "222223\n",
    "222223\n",
    "222223\n",
    "222223\n",
    "\"\"\"\n",
    "\n",
    "bins = 100\n",
    "tick_locators = mticker.FixedLocator(np.arange(0, bins + 1, bins / 4))\n",
    "tick_labels = np.asarray([f\"{a:.2f}\" for a in np.arange(0, 1.01, 0.25)])\n",
    "\n",
    "with sns.plotting_context(\"paper\", font_scale=1.6):\n",
    "    fig = plt.figure(constrained_layout=True, figsize=(7.2 * 2, 7.2 / 1.618))\n",
    "    left, middle, right = fig.subfigures(nrows=1, ncols=3)\n",
    "    axes_left = left.subplot_mosaic(mosaic)\n",
    "    axes_middle = middle.subplot_mosaic(mosaic)\n",
    "    axes_right = right.subplot_mosaic(mosaic)\n",
    "    cbar_ax = fig.add_axes([1.03, 0.25, 0.02, 0.5])\n",
    "\n",
    "    for i, (axes, (xlabel, ylabel)) in enumerate(\n",
    "            zip([axes_left, axes_middle, axes_right], labels)\n",
    "    ):\n",
    "        # Plot heatmaps.\n",
    "        hist, _, _ = np.histogram2d(\n",
    "            similarities[xlabel],\n",
    "            similarities[ylabel],\n",
    "            bins=bins,\n",
    "            range=[[0, 1], [0, 1]],\n",
    "        )\n",
    "        hist /= len(similarities)\n",
    "        heatmap = sns.heatmap(\n",
    "            np.rot90(hist),\n",
    "            vmin=0.0,\n",
    "            vmax=0.01,\n",
    "            cmap=\"viridis\",\n",
    "            cbar=i == 2,\n",
    "            cbar_kws={\"format\": mticker.StrMethodFormatter(\"{x:.3%}\")},\n",
    "            cbar_ax=cbar_ax if i == 2 else None,\n",
    "            square=True,\n",
    "            xticklabels=False,\n",
    "            yticklabels=False,\n",
    "            ax=axes[\"2\"],\n",
    "            norm=LogNorm(),\n",
    "        )\n",
    "        axes[\"2\"].yaxis.set_major_locator(tick_locators)\n",
    "        axes[\"2\"].set_yticklabels(tick_labels[::-1])\n",
    "        axes[\"2\"].xaxis.set_major_locator(tick_locators)\n",
    "        axes[\"2\"].set_xticklabels(tick_labels)\n",
    "        for _, spine in heatmap.spines.items():\n",
    "            spine.set_visible(True)\n",
    "        axes[\"2\"].set_xlabel(xlabel.replace(\"_\", \" \").capitalize())\n",
    "        axes[\"2\"].set_ylabel(ylabel.replace(\"_\", \" \").capitalize())\n",
    "\n",
    "        axes[\"2\"].plot(\n",
    "            [0, bins], [bins, 0], color=\"black\", linestyle=\"dashed\"\n",
    "        )\n",
    "\n",
    "        sns.despine(ax=axes[\"2\"])\n",
    "\n",
    "        # Plot density plots.\n",
    "        sns.kdeplot(\n",
    "            data=similarities,\n",
    "            x=xlabel,\n",
    "            clip=(0, 1),\n",
    "            legend=True,\n",
    "            color=\"black\",\n",
    "            fill=True,\n",
    "            ax=axes[\"1\"],\n",
    "        )\n",
    "        axes[\"1\"].set_xlim(0, 1)\n",
    "        axes[\"1\"].xaxis.set_ticklabels([])\n",
    "        axes[\"1\"].yaxis.set_major_locator(tick_locators)\n",
    "        axes[\"1\"].set_yticks([])\n",
    "        sns.despine(ax=axes[\"1\"], left=True)\n",
    "        sns.kdeplot(\n",
    "            data=similarities,\n",
    "            y=ylabel,\n",
    "            clip=(0, 1),\n",
    "            legend=True,\n",
    "            color=\"black\",\n",
    "            fill=True,\n",
    "            ax=axes[\"3\"],\n",
    "        )\n",
    "        axes[\"3\"].set_ylim(0, 1)\n",
    "        axes[\"3\"].yaxis.set_ticklabels([])\n",
    "        axes[\"3\"].xaxis.set_major_locator(tick_locators)\n",
    "        axes[\"3\"].set_xticks([])\n",
    "        sns.despine(ax=axes[\"3\"], bottom=True)\n",
    "        for ax in [axes[c] for c in \"13\"]:\n",
    "            ax.set_xlabel(\"\")\n",
    "            ax.set_ylabel(\"\")\n",
    "\n",
    "    cbar_ax.set_ylabel(\"Proportion of pairs\")\n",
    "    cbar_ax.yaxis.set_label_position(\"left\")\n",
    "    cbar_ax.spines[\"outline\"].set(visible=True, lw=.8, edgecolor=\"black\")\n",
    "\n",
    "    plt.savefig(\"results/img/combined_plots_{}.png\".format(analysis_id), dpi=300, bbox_inches=\"tight\")\n",
    "    plt.savefig(\"massivekb_peptide_mods.png\", dpi=300, bbox_inches=\"tight\")\n",
    "    plt.show()\n",
    "    plt.close()"
   ],
   "metadata": {
    "collapsed": false,
    "pycharm": {
     "name": "#%%\n",
     "is_executing": true
    }
   }
  },
  {
   "cell_type": "code",
   "execution_count": null,
   "outputs": [],
   "source": [
    "plots = [\n",
    "        [\"nl_score\", \"cos_score\"],\n",
    "        [\"cos_score\", \"mod_score\"],\n",
    "        [\"nl_score\", \"mod_score\"],\n",
    "        [\"nl_max_contribution\", \"nl_score\"],\n",
    "        [\"cos_max_contribution\", \"cos_score\"],\n",
    "        [\"mod_max_contribution\", \"mod_score\"],\n",
    "        [\"nl_matched_intensity\", \"nl_score\"],\n",
    "        [\"cos_matched_intensity\", \"cos_score\"],\n",
    "        [\"mod_matched_intensity\", \"mod_score\"],\n",
    "        [\"nl_matched_intensity\", \"cos_matched_intensity\"],\n",
    "        [\"nl_max_contribution\", \"cos_max_contribution\"],\n",
    "        [\"nl_max_contribution\", \"mod_max_contribution\"],\n",
    "        [\"cos_score\", \"tanimoto\"],\n",
    "        [\"nl_score\", \"tanimoto\"],\n",
    "        [\"mod_score\", \"tanimoto\"],\n",
    "    ]\n",
    "\n",
    "fig, axes = plt.subplots(5, 3, figsize=(7, 15 / 1.618))\n",
    "\n",
    "bins = 50\n",
    "tick_locators = mticker.FixedLocator(np.arange(0, bins + 1, bins / 4))\n",
    "tick_labels = np.asarray([f\"{a:.2f}\" for a in np.arange(0, 1.01, 0.25)])\n",
    "\n",
    "for i, ax in enumerate(axes.flatten()):\n",
    "    if i >= len(plots):\n",
    "        break\n",
    "\n",
    "    (xlabel, ylabel) = plots[i]\n",
    "    hist, _, _ = np.histogram2d(\n",
    "        similarities[xlabel],\n",
    "        similarities[ylabel],\n",
    "        bins=bins,\n",
    "        range=[[0, 1], [0, 1]],\n",
    "    )\n",
    "    heatmap = sns.heatmap(\n",
    "        np.rot90(hist),\n",
    "        cmap=\"viridis\",\n",
    "        cbar=False,\n",
    "        square=True,\n",
    "        xticklabels=False,\n",
    "        yticklabels=False,\n",
    "        ax=ax,\n",
    "        norm=LogNorm(),\n",
    "    )\n",
    "    ax.yaxis.set_major_locator(tick_locators)\n",
    "    ax.set_yticklabels(tick_labels[::-1])\n",
    "    ax.xaxis.set_major_locator(tick_locators)\n",
    "    ax.set_xticklabels(tick_labels)\n",
    "    for _, spine in heatmap.spines.items():\n",
    "        spine.set_visible(True)\n",
    "    ax.set_xlabel(xlabel.replace(\"_\", \" \").capitalize())\n",
    "    ax.set_ylabel(ylabel.replace(\"_\", \" \").capitalize())\n",
    "\n",
    "\n",
    "plt.tight_layout()\n",
    "\n",
    "plt.savefig(\"results/img/score_contributions_{}.png\".format(analysis_id), dpi=300, bbox_inches=\"tight\")\n",
    "plt.show()\n",
    "plt.close()"
   ],
   "metadata": {
    "collapsed": false,
    "pycharm": {
     "name": "#%%\n",
     "is_executing": true
    }
   }
  },
  {
   "cell_type": "code",
   "execution_count": null,
   "outputs": [],
   "source": [
    "plots = [\n",
    "    [\"nl_score\", \"cos_score\"],\n",
    "    [\"cos_score\", \"mod_score\"],\n",
    "    [\"nl_score\", \"mod_score\"],\n",
    "    [\"nl_max_contribution\", \"nl_score\"],\n",
    "    [\"cos_max_contribution\", \"cos_score\"],\n",
    "    [\"mod_max_contribution\", \"mod_score\"],\n",
    "    [\"nl_matched_intensity\", \"nl_score\"],\n",
    "    [\"cos_matched_intensity\", \"cos_score\"],\n",
    "    [\"mod_matched_intensity\", \"mod_score\"],\n",
    "    [\"nl_matched_intensity\", \"cos_matched_intensity\"],\n",
    "    [\"nl_max_contribution\", \"cos_max_contribution\"],\n",
    "    [\"nl_max_contribution\", \"mod_max_contribution\"],\n",
    "    [\"cos_score\", \"tanimoto\"],\n",
    "    [\"nl_score\", \"tanimoto\"],\n",
    "    [\"mod_score\", \"tanimoto\"],\n",
    "]\n",
    "\n",
    "filtered_df = similarities[similarities[\"tanimoto\"]>0.6]\n",
    "\n",
    "fig, axes = plt.subplots(5, 3, figsize=(7, 15 / 1.618))\n",
    "\n",
    "bins = 50\n",
    "tick_locators = mticker.FixedLocator(np.arange(0, bins + 1, bins / 4))\n",
    "tick_labels = np.asarray([f\"{a:.2f}\" for a in np.arange(0, 1.01, 0.25)])\n",
    "\n",
    "for i, ax in enumerate(axes.flatten()):\n",
    "    if i >= len(plots):\n",
    "        break\n",
    "\n",
    "    (xlabel, ylabel) = plots[i]\n",
    "    hist, _, _ = np.histogram2d(\n",
    "        filtered_df[xlabel],\n",
    "        filtered_df[ylabel],\n",
    "        bins=bins,\n",
    "        range=[[0, 1], [0, 1]],\n",
    "    )\n",
    "    heatmap = sns.heatmap(\n",
    "        np.rot90(hist),\n",
    "        cmap=\"viridis\",\n",
    "        cbar=False,\n",
    "        square=True,\n",
    "        xticklabels=False,\n",
    "        yticklabels=False,\n",
    "        ax=ax,\n",
    "        norm=LogNorm(),\n",
    "    )\n",
    "    ax.yaxis.set_major_locator(tick_locators)\n",
    "    ax.set_yticklabels(tick_labels[::-1])\n",
    "    ax.xaxis.set_major_locator(tick_locators)\n",
    "    ax.set_xticklabels(tick_labels)\n",
    "    for _, spine in heatmap.spines.items():\n",
    "        spine.set_visible(True)\n",
    "    ax.set_xlabel(xlabel.replace(\"_\", \" \").capitalize())\n",
    "    ax.set_ylabel(ylabel.replace(\"_\", \" \").capitalize())\n",
    "\n",
    "\n",
    "plt.tight_layout()\n",
    "\n",
    "plt.savefig(\"results/img/tanimoto_filter_{}.png\".format(analysis_id), dpi=300, bbox_inches=\"tight\")\n",
    "plt.show()\n",
    "plt.close()"
   ],
   "metadata": {
    "collapsed": false,
    "pycharm": {
     "name": "#%%\n",
     "is_executing": true
    }
   }
  },
  {
   "cell_type": "code",
   "execution_count": null,
   "outputs": [],
   "source": [
    "fig, axes = plt.subplots(1, 3, figsize=(10, 4))\n",
    "\n",
    "xlabels = [\"cos_n_greq_2p\",\"nl_n_greq_2p\",\"mod_n_greq_2p\"]\n",
    "max_x = similarities[[\"cos_n_greq_2p\",\"nl_n_greq_2p\",\"mod_n_greq_2p\"]].max().max()\n",
    "max_y = max(similarities[xlabel].value_counts()[0] for xlabel in xlabels) * 1.02\n",
    "\n",
    "for i, ax in enumerate(axes.flatten()):\n",
    "    xlabel = xlabels[i]\n",
    "\n",
    "    hist = sns.histplot(data=similarities, x=xlabel, binwidth=1, ax= ax)\n",
    "    # for _, spine in hist.spines.items():\n",
    "    #     spine.set_visible(True)\n",
    "    # ax.set_xlabel(xlabel.replace(\"_\", \" \").capitalize())\n",
    "    # ax.set_ylabel(ylabel.replace(\"_\", \" \").capitalize())\n",
    "\n",
    "    ax.set_xlim((0,max_x))\n",
    "    ax.set_ylim((0,max_y))\n",
    "\n",
    "plt.tight_layout()\n",
    "\n",
    "plt.savefig(\"results/img/greater_2p_signals_{}.png\".format(analysis_id), dpi=300, bbox_inches=\"tight\")\n",
    "plt.show()\n",
    "plt.close()"
   ],
   "metadata": {
    "collapsed": false,
    "pycharm": {
     "name": "#%%\n",
     "is_executing": true
    }
   }
  },
  {
   "cell_type": "code",
   "execution_count": null,
   "outputs": [],
   "source": [
    "g = sns.pairplot(similarities, kind=\"hist\",\n",
    "             vars=[\"cos_score\", \"nl_score\", \"mod_score\", \"cos_max_contribution\", \"nl_max_contribution\"])\n",
    "for axes in g.axes:\n",
    "    for a in axes:\n",
    "        a.set_xlim((0,1))\n",
    "        a.set_ylim((0,1))\n",
    "\n",
    "plt.savefig(\"results/img/pair_{}.png\".format(analysis_id), dpi=300, bbox_inches=\"tight\")\n",
    "plt.show()\n",
    "plt.close()"
   ],
   "metadata": {
    "collapsed": false,
    "pycharm": {
     "name": "#%%\n",
     "is_executing": true
    }
   }
  }
 ],
 "metadata": {
  "kernelspec": {
   "display_name": "Python 3 (ipykernel)",
   "language": "python",
   "name": "python3"
  },
  "language_info": {
   "codemirror_mode": {
    "name": "ipython",
    "version": 3
   },
   "file_extension": ".py",
   "mimetype": "text/x-python",
   "name": "python",
   "nbconvert_exporter": "python",
   "pygments_lexer": "ipython3",
   "version": "3.10.2"
  }
 },
 "nbformat": 4,
 "nbformat_minor": 5
}